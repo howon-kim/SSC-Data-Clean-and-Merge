{
 "cells": [
  {
   "cell_type": "code",
   "execution_count": 20,
   "metadata": {
    "colab": {},
    "colab_type": "code",
    "id": "zHOm3nJxGY2o"
   },
   "outputs": [],
   "source": [
    "import xlrd\n",
    "import xlwt\n",
    "import os"
   ]
  },
  {
   "cell_type": "code",
   "execution_count": 21,
   "metadata": {
    "colab": {
     "base_uri": "https://localhost:8080/",
     "height": 34
    },
    "colab_type": "code",
    "id": "a37goVvCGY2t",
    "outputId": "ac9aa399-42a1-4eaa-b6a8-98e11464aa9c",
    "scrolled": true
   },
   "outputs": [],
   "source": [
    "# Change the path\n",
    "path= './raw/spring2018"
   ]
  },
  {
   "cell_type": "code",
   "execution_count": 22,
   "metadata": {
    "colab": {},
    "colab_type": "code",
    "id": "aKtm9OkMGY20",
    "outputId": "56f73926-a583-456b-b572-c0de95216219"
   },
   "outputs": [
    {
     "name": "stdout",
     "output_type": "stream",
     "text": [
      "./data/spring2018\n",
      "Week 02 (4_16-4_20)_.xlsx\n",
      "Week 04 (4_30-5_4).xlsx\n",
      "Week 05 (5_7-5_11).xlsx\n",
      "Week 07 (5_21-5_25)_.xlsx\n",
      "Week 08 (5_29-6_1).xlsx\n",
      "Week 09 (6_4-6_8)_.xlsx\n",
      "Week 10 (6_11-6_15).xlsx\n",
      "Week 6 (5_14-5_18).xlsx\n",
      "_Week 03 (4_23-4_27).xlsx\n"
     ]
    }
   ],
   "source": [
    "# Tutoring Automation\n",
    "workbook = xlwt.Workbook()\n",
    "\n",
    "Testsheet = workbook.add_sheet('TUTORING')\n",
    "r_row = 5\n",
    "r_col = 1 \n",
    "w_row = 1 \n",
    "w_col = 1\n",
    "\n",
    "# Change the path\n",
    "for root,dirs,files in os.walk(path):\n",
    "    print(root)\n",
    "    xlsfiles=[ _ for _ in files if _.endswith('.xlsx') ]\n",
    "    xlsfiles.sort()\n",
    "    for xlsfile in xlsfiles:\n",
    "        print(xlsfile)\n",
    "        wb = xlrd.open_workbook(os.path.join(root,xlsfile))\n",
    "        sheet = wb.sheet_by_name('TUTORING')\n",
    "        for day in range(0, 5):\n",
    "            for r_row in range(5, 30):\n",
    "                for r_col in range(1, 7):\n",
    "                    data = sheet.cell(r_row, r_col + (day * 7)).value\n",
    "                    Testsheet.write(w_row, w_col, data)\n",
    "                    w_col += 1\n",
    "                w_row += 1\n",
    "                w_col = 1\n",
    "                \n",
    "# Save the file\n",
    "workbook.save('tutoring.xls')"
   ]
  },
  {
   "cell_type": "code",
   "execution_count": 23,
   "metadata": {
    "colab": {},
    "colab_type": "code",
    "id": "2SLhjNoWGY23",
    "outputId": "dc55b40e-6be7-4bcf-dbf2-f076d0f93d0a"
   },
   "outputs": [
    {
     "name": "stdout",
     "output_type": "stream",
     "text": [
      "./data/spring2018\n",
      "Week 02 (4_16-4_20)_.xlsx\n",
      "Week 04 (4_30-5_4).xlsx\n",
      "Week 05 (5_7-5_11).xlsx\n",
      "Week 07 (5_21-5_25)_.xlsx\n",
      "Week 08 (5_29-6_1).xlsx\n",
      "Week 09 (6_4-6_8)_.xlsx\n",
      "Week 10 (6_11-6_15).xlsx\n",
      "Week 6 (5_14-5_18).xlsx\n",
      "_Week 03 (4_23-4_27).xlsx\n"
     ]
    }
   ],
   "source": [
    "# Workshop Automation\n",
    "workbook = xlwt.Workbook()\n",
    "Testsheet = workbook.add_sheet('WORKSHOP')\n",
    "r_row = 5\n",
    "r_col = 1 \n",
    "w_row = 1 \n",
    "w_col = 1\n",
    "days = ['M','T','W','TH','F']\n",
    "\n",
    "# Change the path\n",
    "for root,dirs,files in os.walk(path):\n",
    "    print(root)\n",
    "    xlsfiles=[ _ for _ in files if _.endswith('.xlsx') ]\n",
    "    xlsfiles.sort()\n",
    "    for xlsfile in xlsfiles:\n",
    "        print(xlsfile)\n",
    "        wb = xlrd.open_workbook(os.path.join(root,xlsfile))\n",
    "        for daytap in days:\n",
    "            sheet = wb.sheet_by_name(daytap)\n",
    "            for day in range(0, 9):\n",
    "                for r_row in range(6, 35):\n",
    "                    for r_col in range(1, 5):\n",
    "                        data = sheet.cell(r_row, r_col + (day * 5)).value\n",
    "                        Testsheet.write(w_row, w_col, data)\n",
    "                        w_col += 1\n",
    "                    w_row += 1\n",
    "                    w_col = 1\n",
    "                \n",
    "# Save the file\n",
    "workbook.save('workshop.xls')"
   ]
  },
  {
   "cell_type": "code",
   "execution_count": null,
   "metadata": {
    "colab": {},
    "colab_type": "code",
    "id": "LnlxySMpGY27"
   },
   "outputs": [],
   "source": []
  }
 ],
 "metadata": {
  "colab": {
   "name": "Untitled.ipynb",
   "provenance": [],
   "version": "0.3.2"
  },
  "kernelspec": {
   "display_name": "Python 3",
   "language": "python",
   "name": "python3"
  },
  "language_info": {
   "codemirror_mode": {
    "name": "ipython",
    "version": 3
   },
   "file_extension": ".py",
   "mimetype": "text/x-python",
   "name": "python",
   "nbconvert_exporter": "python",
   "pygments_lexer": "ipython3",
   "version": "3.7.3"
  }
 },
 "nbformat": 4,
 "nbformat_minor": 1
}
